{
 "cells": [
  {
   "cell_type": "markdown",
   "metadata": {},
   "source": [
    "# 1.DataSet"
   ]
  },
  {
   "cell_type": "markdown",
   "metadata": {},
   "source": [
    "## 1.1 Import Dataset"
   ]
  },
  {
   "cell_type": "code",
   "execution_count": 633,
   "metadata": {},
   "outputs": [],
   "source": [
    "from torch_geometric.datasets import KarateClub"
   ]
  },
  {
   "cell_type": "code",
   "execution_count": 634,
   "metadata": {},
   "outputs": [
    {
     "name": "stdout",
     "output_type": "stream",
     "text": [
      "number of graphs in datasets: 1\n",
      "Number of features: 34\n",
      "Number of classes: 4\n"
     ]
    }
   ],
   "source": [
    "dataset = KarateClub()\n",
    "print(f'number of graphs in datasets: {len(dataset)}')\n",
    "print(f'Number of features: {dataset.num_features}')\n",
    "print(f'Number of classes: {dataset.num_classes}')"
   ]
  },
  {
   "cell_type": "code",
   "execution_count": 635,
   "metadata": {},
   "outputs": [
    {
     "data": {
      "text/plain": [
       "(Data(x=[34, 34], edge_index=[2, 156], y=[34], train_mask=[34]),\n",
       " tensor([[ 0,  1],\n",
       "         [ 0,  2],\n",
       "         [ 0,  3],\n",
       "         [ 0,  4],\n",
       "         [ 0,  5],\n",
       "         [ 0,  6],\n",
       "         [ 0,  7],\n",
       "         [ 0,  8],\n",
       "         [ 0, 10],\n",
       "         [ 0, 11],\n",
       "         [ 0, 12],\n",
       "         [ 0, 13],\n",
       "         [ 0, 17],\n",
       "         [ 0, 19],\n",
       "         [ 0, 21],\n",
       "         [ 0, 31],\n",
       "         [ 1,  0],\n",
       "         [ 1,  2],\n",
       "         [ 1,  3],\n",
       "         [ 1,  7],\n",
       "         [ 1, 13],\n",
       "         [ 1, 17],\n",
       "         [ 1, 19],\n",
       "         [ 1, 21],\n",
       "         [ 1, 30],\n",
       "         [ 2,  0],\n",
       "         [ 2,  1],\n",
       "         [ 2,  3],\n",
       "         [ 2,  7],\n",
       "         [ 2,  8],\n",
       "         [ 2,  9],\n",
       "         [ 2, 13],\n",
       "         [ 2, 27],\n",
       "         [ 2, 28],\n",
       "         [ 2, 32],\n",
       "         [ 3,  0],\n",
       "         [ 3,  1],\n",
       "         [ 3,  2],\n",
       "         [ 3,  7],\n",
       "         [ 3, 12],\n",
       "         [ 3, 13],\n",
       "         [ 4,  0],\n",
       "         [ 4,  6],\n",
       "         [ 4, 10],\n",
       "         [ 5,  0],\n",
       "         [ 5,  6],\n",
       "         [ 5, 10],\n",
       "         [ 5, 16],\n",
       "         [ 6,  0],\n",
       "         [ 6,  4],\n",
       "         [ 6,  5],\n",
       "         [ 6, 16],\n",
       "         [ 7,  0],\n",
       "         [ 7,  1],\n",
       "         [ 7,  2],\n",
       "         [ 7,  3],\n",
       "         [ 8,  0],\n",
       "         [ 8,  2],\n",
       "         [ 8, 30],\n",
       "         [ 8, 32],\n",
       "         [ 8, 33],\n",
       "         [ 9,  2],\n",
       "         [ 9, 33],\n",
       "         [10,  0],\n",
       "         [10,  4],\n",
       "         [10,  5],\n",
       "         [11,  0],\n",
       "         [12,  0],\n",
       "         [12,  3],\n",
       "         [13,  0],\n",
       "         [13,  1],\n",
       "         [13,  2],\n",
       "         [13,  3],\n",
       "         [13, 33],\n",
       "         [14, 32],\n",
       "         [14, 33],\n",
       "         [15, 32],\n",
       "         [15, 33],\n",
       "         [16,  5],\n",
       "         [16,  6],\n",
       "         [17,  0],\n",
       "         [17,  1],\n",
       "         [18, 32],\n",
       "         [18, 33],\n",
       "         [19,  0],\n",
       "         [19,  1],\n",
       "         [19, 33],\n",
       "         [20, 32],\n",
       "         [20, 33],\n",
       "         [21,  0],\n",
       "         [21,  1],\n",
       "         [22, 32],\n",
       "         [22, 33],\n",
       "         [23, 25],\n",
       "         [23, 27],\n",
       "         [23, 29],\n",
       "         [23, 32],\n",
       "         [23, 33],\n",
       "         [24, 25],\n",
       "         [24, 27],\n",
       "         [24, 31],\n",
       "         [25, 23],\n",
       "         [25, 24],\n",
       "         [25, 31],\n",
       "         [26, 29],\n",
       "         [26, 33],\n",
       "         [27,  2],\n",
       "         [27, 23],\n",
       "         [27, 24],\n",
       "         [27, 33],\n",
       "         [28,  2],\n",
       "         [28, 31],\n",
       "         [28, 33],\n",
       "         [29, 23],\n",
       "         [29, 26],\n",
       "         [29, 32],\n",
       "         [29, 33],\n",
       "         [30,  1],\n",
       "         [30,  8],\n",
       "         [30, 32],\n",
       "         [30, 33],\n",
       "         [31,  0],\n",
       "         [31, 24],\n",
       "         [31, 25],\n",
       "         [31, 28],\n",
       "         [31, 32],\n",
       "         [31, 33],\n",
       "         [32,  2],\n",
       "         [32,  8],\n",
       "         [32, 14],\n",
       "         [32, 15],\n",
       "         [32, 18],\n",
       "         [32, 20],\n",
       "         [32, 22],\n",
       "         [32, 23],\n",
       "         [32, 29],\n",
       "         [32, 30],\n",
       "         [32, 31],\n",
       "         [32, 33],\n",
       "         [33,  8],\n",
       "         [33,  9],\n",
       "         [33, 13],\n",
       "         [33, 14],\n",
       "         [33, 15],\n",
       "         [33, 18],\n",
       "         [33, 19],\n",
       "         [33, 20],\n",
       "         [33, 22],\n",
       "         [33, 23],\n",
       "         [33, 26],\n",
       "         [33, 27],\n",
       "         [33, 28],\n",
       "         [33, 29],\n",
       "         [33, 30],\n",
       "         [33, 31],\n",
       "         [33, 32]]))"
      ]
     },
     "execution_count": 635,
     "metadata": {},
     "output_type": "execute_result"
    }
   ],
   "source": [
    "data = dataset[0] # Get the first graph\n",
    "data, data.edge_index.t() # get the tuple format of all edge_indexs in the graph"
   ]
  },
  {
   "cell_type": "markdown",
   "metadata": {},
   "source": [
    "## 1.2 Dataset Visualization"
   ]
  },
  {
   "cell_type": "code",
   "execution_count": 636,
   "metadata": {},
   "outputs": [
    {
     "data": {
      "image/png": "[encoded data removed]",
      "text/plain": [
       "<Figure size 504x504 with 1 Axes>"
      ]
     },
     "metadata": {},
     "output_type": "display_data"
    }
   ],
   "source": [
    "from torch_geometric.utils import to_networkx\n",
    "%matplotlib inline\n",
    "import torch\n",
    "import networkx as nx\n",
    "import matplotlib.pyplot as plt\n",
    "\n",
    "# Visualization function for NX graph or PyTorch tensor\n",
    "def visualize(h, color, epoch=None, loss=None):\n",
    "    plt.figure(figsize=(7,7))\n",
    "    plt.xticks([])\n",
    "    plt.yticks([])\n",
    "\n",
    "    if torch.is_tensor(h):\n",
    "        h = h.detach().cpu().numpy()\n",
    "        plt.scatter(h[:, 0], h[:, 1], s=140, c=color, cmap=\"Set2\")\n",
    "        if epoch is not None and loss is not None:\n",
    "            plt.xlabel(f'Epoch: {epoch}, Loss: {loss.item():.4f}', fontsize=16)\n",
    "    else:\n",
    "        nx.draw_networkx(G, pos=nx.spring_layout(G, seed=42), with_labels=False,\n",
    "                         node_color=color, cmap=\"Set2\")\n",
    "    plt.show()\n",
    "\n",
    "G = to_networkx(data, to_undirected=True)\n",
    "visualize(G, color=data.y)"
   ]
  },
  {
   "cell_type": "markdown",
   "metadata": {},
   "source": [
    "# 2.Model"
   ]
  },
  {
   "cell_type": "markdown",
   "metadata": {},
   "source": [
    "## 2.1 Model Definition"
   ]
  },
  {
   "cell_type": "code",
   "execution_count": 637,
   "metadata": {},
   "outputs": [],
   "source": [
    "import torch\n",
    "from torch.nn import Linear, Module\n",
    "from torch_geometric.nn import GCNConv"
   ]
  },
  {
   "cell_type": "code",
   "execution_count": 638,
   "metadata": {},
   "outputs": [],
   "source": [
    "class GCN(Module):\n",
    "    def __init__(self, input_size, output_size):\n",
    "        super().__init__()\n",
    "        self.conv1 = GCNConv(input_size, 4)\n",
    "        self.conv2 = GCNConv(4, 4)\n",
    "        self.conv3 = GCNConv(4, 2) # The output of last GCNConv layer is set to 2, so that we can visualize the embedding h of a node in a 2-dimensional picture.\n",
    "        self.classifier = Linear(2, output_size)\n",
    "    \n",
    "    def forward(self, x, edge_index): # The type of edge_index in GCNConv.forwar(x, edge_index) is union, while our input is tuple.\n",
    "        h = self.conv1(x, edge_index)\n",
    "        h = h.tanh()\n",
    "        h = self.conv2(h, edge_index)\n",
    "        h = h.tanh()\n",
    "        h = self.conv3(h, edge_index)\n",
    "        h = h.tanh() # the last layer of embedding\n",
    "        out = self.classifier(h) # the output of classifier\n",
    "\n",
    "        return out, h"
   ]
  },
  {
   "cell_type": "code",
   "execution_count": 639,
   "metadata": {},
   "outputs": [
    {
     "data": {
      "text/plain": [
       "GCN(\n",
       "  (conv1): GCNConv(34, 4)\n",
       "  (conv2): GCNConv(4, 4)\n",
       "  (conv3): GCNConv(4, 2)\n",
       "  (classifier): Linear(in_features=2, out_features=4, bias=True)\n",
       ")"
      ]
     },
     "execution_count": 639,
     "metadata": {},
     "output_type": "execute_result"
    }
   ],
   "source": [
    "input_size = dataset.num_features\n",
    "output_size = dataset.num_classes\n",
    "model = GCN(input_size, output_size)\n",
    "model"
   ]
  },
  {
   "cell_type": "markdown",
   "metadata": {},
   "source": [
    "## 2.2 The Visualization of Emedding Generated by GCN"
   ]
  },
  {
   "cell_type": "code",
   "execution_count": 640,
   "metadata": {},
   "outputs": [
    {
     "name": "stdout",
     "output_type": "stream",
     "text": [
      "The embedding's shape is transfered from torch.Size([34, 34]) to torch.Size([34, 2]), and the embedding can be visualized in 2-dimensional as following:\n"
     ]
    },
    {
     "data": {
      "image/png": "[encoded data removed]",
      "text/plain": [
       "<Figure size 504x504 with 1 Axes>"
      ]
     },
     "metadata": {},
     "output_type": "display_data"
    }
   ],
   "source": [
    "out, h = model(data.x, data.edge_index)\n",
    "print(f\"The embedding's shape is transfered from {data.x.size()} to {h.size()}, and the embedding can be visualized in 2-dimensional as following:\")\n",
    "visualize(h, color=data.y)"
   ]
  },
  {
   "cell_type": "code",
   "execution_count": 641,
   "metadata": {},
   "outputs": [
    {
     "data": {
      "text/plain": [
       "(34,\n",
       " 34,\n",
       " tensor([ True, False, False, False,  True, False, False, False,  True, False,\n",
       "         False, False, False, False, False, False, False, False, False, False,\n",
       "         False, False, False, False,  True, False, False, False, False, False,\n",
       "         False, False, False, False]),\n",
       " tensor([[ 0.7703,  0.5842, -0.1823,  0.2725],\n",
       "         [ 0.7543,  0.6093, -0.1695,  0.2469],\n",
       "         [ 0.6823,  0.6623, -0.1477,  0.1555],\n",
       "         [ 0.7272,  0.6014, -0.1779,  0.2236]], grad_fn=<IndexBackward0>))"
      ]
     },
     "execution_count": 641,
     "metadata": {},
     "output_type": "execute_result"
    }
   ],
   "source": [
    "# only some of edges is in training set\n",
    "len(data.train_mask), len(out), data.train_mask, out[data.train_mask]"
   ]
  },
  {
   "cell_type": "markdown",
   "metadata": {},
   "source": [
    "# 3.Training"
   ]
  },
  {
   "cell_type": "markdown",
   "metadata": {},
   "source": [
    "## 3.1 Training Setting"
   ]
  },
  {
   "cell_type": "code",
   "execution_count": 642,
   "metadata": {},
   "outputs": [],
   "source": [
    "args = {\n",
    "    'lr': 0.01,\n",
    "    'epochs': 1000,\n",
    "}\n",
    "criterion = torch.nn.CrossEntropyLoss()\n",
    "optimizer = torch.optim.Adam(model.parameters(), lr=args['lr'])"
   ]
  },
  {
   "cell_type": "markdown",
   "metadata": {},
   "source": [
    "## 3.2 Start Training"
   ]
  },
  {
   "cell_type": "code",
   "execution_count": 643,
   "metadata": {},
   "outputs": [],
   "source": [
    "def train(data):\n",
    "    optimizer.zero_grad()\n",
    "    out, h = model(data.x, data.edge_index)\n",
    "    loss = criterion(out[data.train_mask], data.y[data.train_mask]) # only calculate the loss of traninig set\n",
    "    loss.backward()\n",
    "    optimizer.step()\n",
    "    return loss, h"
   ]
  },
  {
   "cell_type": "code",
   "execution_count": 644,
   "metadata": {},
   "outputs": [],
   "source": [
    "def accuracy():\n",
    "    out, h = model(data.x, data.edge_index)\n",
    "    pred = out\n",
    "    label = data.y\n",
    "\n",
    "    pred_train = pred[data.train_mask]\n",
    "    pred_train = torch.nn.functional.softmax(pred_train).argmax(axis=0).reshape(-1, 1)\n",
    "    label_train = label[data.train_mask]\n",
    "    acc = (pred_train == label_train).sum() / len(pred_train)\n",
    "    \n",
    "    return acc"
   ]
  },
  {
   "cell_type": "code",
   "execution_count": 645,
   "metadata": {},
   "outputs": [
    {
     "name": "stdout",
     "output_type": "stream",
     "text": [
      "epoch :0, loss: 1.4628229141235352, accuracy: 1.0\n"
     ]
    },
    {
     "name": "stderr",
     "output_type": "stream",
     "text": [
      "/var/folders/gy/zjs2ncbs7y97_x8_t1hh7wcr0000gn/T/ipykernel_19273/176563386.py:7: UserWarning: Implicit dimension choice for softmax has been deprecated. Change the call to include dim=X as an argument.\n",
      "  pred_train = torch.nn.functional.softmax(pred_train).argmax(axis=0).reshape(-1, 1)\n"
     ]
    },
    {
     "name": "stdout",
     "output_type": "stream",
     "text": [
      "epoch :10, loss: 1.3339279890060425, accuracy: 1.0\n",
      "epoch :20, loss: 1.1707860231399536, accuracy: 1.0\n",
      "epoch :30, loss: 0.9718849658966064, accuracy: 1.0\n",
      "epoch :40, loss: 0.8277209997177124, accuracy: 1.0\n",
      "epoch :50, loss: 0.758748471736908, accuracy: 1.0\n",
      "epoch :60, loss: 0.7290096282958984, accuracy: 1.0\n",
      "epoch :70, loss: 0.7134761810302734, accuracy: 1.0\n",
      "epoch :80, loss: 0.6993587613105774, accuracy: 1.0\n",
      "epoch :90, loss: 0.680239200592041, accuracy: 1.0\n",
      "epoch :100, loss: 0.655189037322998, accuracy: 1.0\n",
      "epoch :110, loss: 0.6252906322479248, accuracy: 1.0\n",
      "epoch :120, loss: 0.5915474891662598, accuracy: 1.0\n",
      "epoch :130, loss: 0.5552318096160889, accuracy: 1.0\n",
      "epoch :140, loss: 0.5191514492034912, accuracy: 1.0\n",
      "epoch :150, loss: 0.48576492071151733, accuracy: 1.0\n",
      "epoch :160, loss: 0.45577019453048706, accuracy: 1.0\n",
      "epoch :170, loss: 0.42675328254699707, accuracy: 1.0\n",
      "epoch :180, loss: 0.39462411403656006, accuracy: 1.0\n",
      "epoch :190, loss: 0.35920485854148865, accuracy: 1.0\n",
      "epoch :200, loss: 0.32425493001937866, accuracy: 1.0\n",
      "epoch :210, loss: 0.2931407690048218, accuracy: 1.0\n",
      "epoch :220, loss: 0.26699644327163696, accuracy: 1.0\n",
      "epoch :230, loss: 0.24538296461105347, accuracy: 1.0\n",
      "epoch :240, loss: 0.22741326689720154, accuracy: 1.0\n",
      "epoch :250, loss: 0.21229010820388794, accuracy: 1.0\n",
      "epoch :260, loss: 0.19952967762947083, accuracy: 1.0\n",
      "epoch :270, loss: 0.18815499544143677, accuracy: 1.0\n",
      "epoch :280, loss: 0.1780403107404709, accuracy: 1.0\n",
      "epoch :290, loss: 0.16893528401851654, accuracy: 1.0\n",
      "epoch :300, loss: 0.16072911024093628, accuracy: 1.0\n",
      "epoch :310, loss: 0.1532062292098999, accuracy: 1.0\n",
      "epoch :320, loss: 0.1462898552417755, accuracy: 1.0\n",
      "epoch :330, loss: 0.13989591598510742, accuracy: 1.0\n",
      "epoch :340, loss: 0.13396328687667847, accuracy: 1.0\n",
      "epoch :350, loss: 0.12844161689281464, accuracy: 1.0\n",
      "epoch :360, loss: 0.12328925728797913, accuracy: 1.0\n",
      "epoch :370, loss: 0.11847048997879028, accuracy: 1.0\n",
      "epoch :380, loss: 0.11395448446273804, accuracy: 1.0\n",
      "epoch :390, loss: 0.10971420258283615, accuracy: 1.0\n",
      "epoch :400, loss: 0.10572600364685059, accuracy: 1.0\n",
      "epoch :410, loss: 0.10196880251169205, accuracy: 1.0\n",
      "epoch :420, loss: 0.09842391312122345, accuracy: 1.0\n",
      "epoch :430, loss: 0.09507465362548828, accuracy: 1.0\n",
      "epoch :440, loss: 0.09190595149993896, accuracy: 1.0\n",
      "epoch :450, loss: 0.08890441805124283, accuracy: 1.0\n",
      "epoch :460, loss: 0.08605781942605972, accuracy: 1.0\n",
      "epoch :470, loss: 0.08345260471105576, accuracy: 1.0\n",
      "epoch :480, loss: 0.08155672997236252, accuracy: 1.0\n",
      "epoch :490, loss: 0.07852579653263092, accuracy: 1.0\n",
      "epoch :500, loss: 0.07606367766857147, accuracy: 1.0\n",
      "epoch :510, loss: 0.07381000369787216, accuracy: 1.0\n",
      "epoch :520, loss: 0.0716858059167862, accuracy: 1.0\n",
      "epoch :530, loss: 0.06965916603803635, accuracy: 1.0\n",
      "epoch :540, loss: 0.06772375106811523, accuracy: 1.0\n",
      "epoch :550, loss: 0.06587550044059753, accuracy: 1.0\n",
      "epoch :560, loss: 0.06410536915063858, accuracy: 1.0\n",
      "epoch :570, loss: 0.06240953505039215, accuracy: 1.0\n",
      "epoch :580, loss: 0.06078392267227173, accuracy: 1.0\n",
      "epoch :590, loss: 0.05922428146004677, accuracy: 1.0\n",
      "epoch :600, loss: 0.05772700533270836, accuracy: 1.0\n",
      "epoch :610, loss: 0.05628861486911774, accuracy: 1.0\n",
      "epoch :620, loss: 0.0549059733748436, accuracy: 1.0\n",
      "epoch :630, loss: 0.05357609689235687, accuracy: 1.0\n",
      "epoch :640, loss: 0.05229624733328819, accuracy: 1.0\n",
      "epoch :650, loss: 0.05106382071971893, accuracy: 1.0\n",
      "epoch :660, loss: 0.04987642914056778, accuracy: 1.0\n",
      "epoch :670, loss: 0.04873180389404297, accuracy: 1.0\n",
      "epoch :680, loss: 0.047627855092287064, accuracy: 1.0\n",
      "epoch :690, loss: 0.04656260088086128, accuracy: 1.0\n",
      "epoch :700, loss: 0.045534223318099976, accuracy: 1.0\n",
      "epoch :710, loss: 0.044540874660015106, accuracy: 1.0\n",
      "epoch :720, loss: 0.04358094558119774, accuracy: 1.0\n",
      "epoch :730, loss: 0.042652957141399384, accuracy: 1.0\n",
      "epoch :740, loss: 0.04175547882914543, accuracy: 1.0\n",
      "epoch :750, loss: 0.04088698327541351, accuracy: 1.0\n",
      "epoch :760, loss: 0.040046364068984985, accuracy: 1.0\n",
      "epoch :770, loss: 0.039232298731803894, accuracy: 1.0\n",
      "epoch :780, loss: 0.038443706929683685, accuracy: 1.0\n",
      "epoch :790, loss: 0.03767932951450348, accuracy: 1.0\n",
      "epoch :800, loss: 0.0369383804500103, accuracy: 1.0\n",
      "epoch :810, loss: 0.03621974587440491, accuracy: 1.0\n",
      "epoch :820, loss: 0.03552253544330597, accuracy: 1.0\n",
      "epoch :830, loss: 0.034845832735300064, accuracy: 1.0\n",
      "epoch :840, loss: 0.03418893367052078, accuracy: 1.0\n",
      "epoch :850, loss: 0.03355085104703903, accuracy: 1.0\n",
      "epoch :860, loss: 0.03293105214834213, accuracy: 1.0\n",
      "epoch :870, loss: 0.03232869133353233, accuracy: 1.0\n",
      "epoch :880, loss: 0.03174316883087158, accuracy: 1.0\n",
      "epoch :890, loss: 0.031173761934041977, accuracy: 1.0\n",
      "epoch :900, loss: 0.03061991184949875, accuracy: 1.0\n",
      "epoch :910, loss: 0.03008117899298668, accuracy: 1.0\n",
      "epoch :920, loss: 0.029558507725596428, accuracy: 1.0\n",
      "epoch :930, loss: 0.029087696224451065, accuracy: 1.0\n",
      "epoch :940, loss: 0.028735484927892685, accuracy: 1.0\n",
      "epoch :950, loss: 0.028121482580900192, accuracy: 1.0\n",
      "epoch :960, loss: 0.027605436742305756, accuracy: 1.0\n",
      "epoch :970, loss: 0.02713323011994362, accuracy: 1.0\n",
      "epoch :980, loss: 0.026683595031499863, accuracy: 1.0\n",
      "epoch :990, loss: 0.02624674141407013, accuracy: 1.0\n"
     ]
    }
   ],
   "source": [
    "for epoch in range(args['epochs']):\n",
    "    loss, h = train(data)\n",
    "    # print(h.shape)\n",
    "    # print(data.y.shape)\n",
    "    acc = accuracy()\n",
    "    if epoch % 10 == 0:\n",
    "        print(f\"epoch :{epoch}, loss: {loss}, accuracy: {acc}\")\n",
    "        # visualize(h, color=data.y, epoch=epoch, loss=loss)"
   ]
  },
  {
   "cell_type": "code",
   "execution_count": null,
   "metadata": {},
   "outputs": [],
   "source": []
  }
 ],
 "metadata": {
  "kernelspec": {
   "display_name": "Python 3.8.0 ('python380')",
   "language": "python",
   "name": "python3"
  },
  "language_info": {
   "codemirror_mode": {
    "name": "ipython",
    "version": 3
   },
   "file_extension": ".py",
   "mimetype": "text/x-python",
   "name": "python",
   "nbconvert_exporter": "python",
   "pygments_lexer": "ipython3",
   "version": "3.8.0"
  },
  "orig_nbformat": 4,
  "vscode": {
   "interpreter": {
    "hash": "3f1aac94a61804a8d75ffb987cbc74f8d702c3ab4a0bcc227659f2682f8e6d7f"
   }
  }
 },
 "nbformat": 4,
 "nbformat_minor": 2
}
