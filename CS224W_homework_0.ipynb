{
 "cells": [
  {
   "cell_type": "markdown",
   "metadata": {},
   "source": [
    "# 1.DataSet"
   ]
  },
  {
   "cell_type": "markdown",
   "metadata": {},
   "source": [
    "## 1.1 Import Dataset"
   ]
  },
  {
   "cell_type": "code",
   "execution_count": 313,
   "metadata": {},
   "outputs": [],
   "source": [
    "from torch_geometric.datasets import KarateClub"
   ]
  },
  {
   "cell_type": "code",
   "execution_count": 314,
   "metadata": {},
   "outputs": [
    {
     "name": "stdout",
     "output_type": "stream",
     "text": [
      "number of graphs in datasets: 1\n",
      "Number of features: 34\n",
      "Number of classes: 4\n"
     ]
    }
   ],
   "source": [
    "dataset = KarateClub()\n",
    "print(f'number of graphs in datasets: {len(dataset)}')\n",
    "print(f'Number of features: {dataset.num_features}')\n",
    "print(f'Number of classes: {dataset.num_classes}')"
   ]
  },
  {
   "cell_type": "code",
   "execution_count": 315,
   "metadata": {},
   "outputs": [
    {
     "data": {
      "text/plain": [
       "(Data(x=[34, 34], edge_index=[2, 156], y=[34], train_mask=[34]),\n",
       " tensor([[ 0,  1],\n",
       "         [ 0,  2],\n",
       "         [ 0,  3],\n",
       "         [ 0,  4],\n",
       "         [ 0,  5],\n",
       "         [ 0,  6],\n",
       "         [ 0,  7],\n",
       "         [ 0,  8],\n",
       "         [ 0, 10],\n",
       "         [ 0, 11],\n",
       "         [ 0, 12],\n",
       "         [ 0, 13],\n",
       "         [ 0, 17],\n",
       "         [ 0, 19],\n",
       "         [ 0, 21],\n",
       "         [ 0, 31],\n",
       "         [ 1,  0],\n",
       "         [ 1,  2],\n",
       "         [ 1,  3],\n",
       "         [ 1,  7],\n",
       "         [ 1, 13],\n",
       "         [ 1, 17],\n",
       "         [ 1, 19],\n",
       "         [ 1, 21],\n",
       "         [ 1, 30],\n",
       "         [ 2,  0],\n",
       "         [ 2,  1],\n",
       "         [ 2,  3],\n",
       "         [ 2,  7],\n",
       "         [ 2,  8],\n",
       "         [ 2,  9],\n",
       "         [ 2, 13],\n",
       "         [ 2, 27],\n",
       "         [ 2, 28],\n",
       "         [ 2, 32],\n",
       "         [ 3,  0],\n",
       "         [ 3,  1],\n",
       "         [ 3,  2],\n",
       "         [ 3,  7],\n",
       "         [ 3, 12],\n",
       "         [ 3, 13],\n",
       "         [ 4,  0],\n",
       "         [ 4,  6],\n",
       "         [ 4, 10],\n",
       "         [ 5,  0],\n",
       "         [ 5,  6],\n",
       "         [ 5, 10],\n",
       "         [ 5, 16],\n",
       "         [ 6,  0],\n",
       "         [ 6,  4],\n",
       "         [ 6,  5],\n",
       "         [ 6, 16],\n",
       "         [ 7,  0],\n",
       "         [ 7,  1],\n",
       "         [ 7,  2],\n",
       "         [ 7,  3],\n",
       "         [ 8,  0],\n",
       "         [ 8,  2],\n",
       "         [ 8, 30],\n",
       "         [ 8, 32],\n",
       "         [ 8, 33],\n",
       "         [ 9,  2],\n",
       "         [ 9, 33],\n",
       "         [10,  0],\n",
       "         [10,  4],\n",
       "         [10,  5],\n",
       "         [11,  0],\n",
       "         [12,  0],\n",
       "         [12,  3],\n",
       "         [13,  0],\n",
       "         [13,  1],\n",
       "         [13,  2],\n",
       "         [13,  3],\n",
       "         [13, 33],\n",
       "         [14, 32],\n",
       "         [14, 33],\n",
       "         [15, 32],\n",
       "         [15, 33],\n",
       "         [16,  5],\n",
       "         [16,  6],\n",
       "         [17,  0],\n",
       "         [17,  1],\n",
       "         [18, 32],\n",
       "         [18, 33],\n",
       "         [19,  0],\n",
       "         [19,  1],\n",
       "         [19, 33],\n",
       "         [20, 32],\n",
       "         [20, 33],\n",
       "         [21,  0],\n",
       "         [21,  1],\n",
       "         [22, 32],\n",
       "         [22, 33],\n",
       "         [23, 25],\n",
       "         [23, 27],\n",
       "         [23, 29],\n",
       "         [23, 32],\n",
       "         [23, 33],\n",
       "         [24, 25],\n",
       "         [24, 27],\n",
       "         [24, 31],\n",
       "         [25, 23],\n",
       "         [25, 24],\n",
       "         [25, 31],\n",
       "         [26, 29],\n",
       "         [26, 33],\n",
       "         [27,  2],\n",
       "         [27, 23],\n",
       "         [27, 24],\n",
       "         [27, 33],\n",
       "         [28,  2],\n",
       "         [28, 31],\n",
       "         [28, 33],\n",
       "         [29, 23],\n",
       "         [29, 26],\n",
       "         [29, 32],\n",
       "         [29, 33],\n",
       "         [30,  1],\n",
       "         [30,  8],\n",
       "         [30, 32],\n",
       "         [30, 33],\n",
       "         [31,  0],\n",
       "         [31, 24],\n",
       "         [31, 25],\n",
       "         [31, 28],\n",
       "         [31, 32],\n",
       "         [31, 33],\n",
       "         [32,  2],\n",
       "         [32,  8],\n",
       "         [32, 14],\n",
       "         [32, 15],\n",
       "         [32, 18],\n",
       "         [32, 20],\n",
       "         [32, 22],\n",
       "         [32, 23],\n",
       "         [32, 29],\n",
       "         [32, 30],\n",
       "         [32, 31],\n",
       "         [32, 33],\n",
       "         [33,  8],\n",
       "         [33,  9],\n",
       "         [33, 13],\n",
       "         [33, 14],\n",
       "         [33, 15],\n",
       "         [33, 18],\n",
       "         [33, 19],\n",
       "         [33, 20],\n",
       "         [33, 22],\n",
       "         [33, 23],\n",
       "         [33, 26],\n",
       "         [33, 27],\n",
       "         [33, 28],\n",
       "         [33, 29],\n",
       "         [33, 30],\n",
       "         [33, 31],\n",
       "         [33, 32]]))"
      ]
     },
     "execution_count": 315,
     "metadata": {},
     "output_type": "execute_result"
    }
   ],
   "source": [
    "data = dataset[0] # Get the first graph\n",
    "data, data.edge_index.t() # get the tuple format of all edge_indexs in the graph"
   ]
  },
  {
   "cell_type": "markdown",
   "metadata": {},
   "source": [
    "## 1.2 Dataset Visualization"
   ]
  },
  {
   "cell_type": "code",
   "execution_count": 316,
   "metadata": {},
   "outputs": [
    {
     "data": {
      "image/png": "[encoded data removed]",
      "text/plain": [
       "<Figure size 504x504 with 1 Axes>"
      ]
     },
     "metadata": {},
     "output_type": "display_data"
    }
   ],
   "source": [
    "from torch_geometric.utils import to_networkx\n",
    "%matplotlib inline\n",
    "import torch\n",
    "import networkx as nx\n",
    "import matplotlib.pyplot as plt\n",
    "\n",
    "# Visualization function for NX graph or PyTorch tensor\n",
    "def visualize(h, color, epoch=None, loss=None):\n",
    "    plt.figure(figsize=(7,7))\n",
    "    plt.xticks([])\n",
    "    plt.yticks([])\n",
    "\n",
    "    if torch.is_tensor(h):\n",
    "        h = h.detach().cpu().numpy()\n",
    "        plt.scatter(h[:, 0], h[:, 1], s=140, c=color, cmap=\"Set2\")\n",
    "        if epoch is not None and loss is not None:\n",
    "            plt.xlabel(f'Epoch: {epoch}, Loss: {loss.item():.4f}', fontsize=16)\n",
    "    else:\n",
    "        nx.draw_networkx(G, pos=nx.spring_layout(G, seed=42), with_labels=False,\n",
    "                         node_color=color, cmap=\"Set2\")\n",
    "    plt.show()\n",
    "\n",
    "G = to_networkx(data, to_undirected=True)\n",
    "visualize(G, color=data.y)"
   ]
  },
  {
   "cell_type": "markdown",
   "metadata": {},
   "source": [
    "# 2.Model"
   ]
  },
  {
   "cell_type": "markdown",
   "metadata": {},
   "source": [
    "## 2.1 Model Definition"
   ]
  },
  {
   "cell_type": "code",
   "execution_count": 317,
   "metadata": {},
   "outputs": [],
   "source": [
    "import torch\n",
    "from torch.nn import Linear, Module\n",
    "from torch_geometric.nn import GCNConv"
   ]
  },
  {
   "cell_type": "code",
   "execution_count": 318,
   "metadata": {},
   "outputs": [],
   "source": [
    "class GCN(Module):\n",
    "    def __init__(self, input_size, output_size):\n",
    "        super().__init__()\n",
    "        self.conv1 = GCNConv(input_size, 4)\n",
    "        self.conv2 = GCNConv(4, 4)\n",
    "        self.conv3 = GCNConv(4, 2) # The output of last GCNConv layer is set to 2, so that we can visualize the embedding h of a node in a 2-dimensional picture.\n",
    "        self.classifier = Linear(2, output_size)\n",
    "    \n",
    "    def forward(self, x, edge_index): # The type of edge_index in GCNConv.forwar(x, edge_index) is union, while our input is tuple.\n",
    "        h = self.conv1(x, edge_index)\n",
    "        h = h.tanh()\n",
    "        h = self.conv2(h, edge_index)\n",
    "        h = h.tanh()\n",
    "        h = self.conv3(h, edge_index)\n",
    "        h = h.tanh() # the last layer of embedding\n",
    "        out = self.classifier(h) # the output of classifier\n",
    "\n",
    "        return out, h"
   ]
  },
  {
   "cell_type": "code",
   "execution_count": 319,
   "metadata": {},
   "outputs": [
    {
     "data": {
      "text/plain": [
       "GCN(\n",
       "  (conv1): GCNConv(34, 4)\n",
       "  (conv2): GCNConv(4, 4)\n",
       "  (conv3): GCNConv(4, 2)\n",
       "  (classifier): Linear(in_features=2, out_features=4, bias=True)\n",
       ")"
      ]
     },
     "execution_count": 319,
     "metadata": {},
     "output_type": "execute_result"
    }
   ],
   "source": [
    "input_size = dataset.num_features\n",
    "output_size = dataset.num_classes\n",
    "model = GCN(input_size, output_size)\n",
    "model"
   ]
  },
  {
   "cell_type": "markdown",
   "metadata": {},
   "source": [
    "## 2.2 The Visualization of Emedding Generated by GCN"
   ]
  },
  {
   "cell_type": "code",
   "execution_count": 320,
   "metadata": {},
   "outputs": [
    {
     "name": "stdout",
     "output_type": "stream",
     "text": [
      "The embedding's shape is transfered from torch.Size([34, 34]) to torch.Size([34, 2]), and the embedding can be visualized in 2-dimensional as following:\n"
     ]
    },
    {
     "data": {
      "image/png": "[encoded data removed]",
      "text/plain": [
       "<Figure size 504x504 with 1 Axes>"
      ]
     },
     "metadata": {},
     "output_type": "display_data"
    }
   ],
   "source": [
    "out, h = model(data.x, data.edge_index)\n",
    "print(f\"The embedding's shape is transfered from {data.x.size()} to {h.size()}, and the embedding can be visualized in 2-dimensional as following:\")\n",
    "visualize(h, color=data.y)"
   ]
  },
  {
   "cell_type": "code",
   "execution_count": 321,
   "metadata": {},
   "outputs": [
    {
     "data": {
      "text/plain": [
       "(34,\n",
       " 34,\n",
       " tensor([ True, False, False, False,  True, False, False, False,  True, False,\n",
       "         False, False, False, False, False, False, False, False, False, False,\n",
       "         False, False, False, False,  True, False, False, False, False, False,\n",
       "         False, False, False, False]),\n",
       " tensor([[0.0746, 0.2860, 0.4216, 0.4964],\n",
       "         [0.0982, 0.2741, 0.4510, 0.5178],\n",
       "         [0.0595, 0.3085, 0.3975, 0.5055],\n",
       "         [0.0379, 0.3239, 0.3689, 0.4928]], grad_fn=<IndexBackward0>))"
      ]
     },
     "execution_count": 321,
     "metadata": {},
     "output_type": "execute_result"
    }
   ],
   "source": [
    "# only some of edges is in training set\n",
    "len(data.train_mask), len(out), data.train_mask, out[data.train_mask]"
   ]
  },
  {
   "cell_type": "markdown",
   "metadata": {},
   "source": [
    "# 3.Training"
   ]
  },
  {
   "cell_type": "markdown",
   "metadata": {},
   "source": [
    "## 3.1 Training Setting"
   ]
  },
  {
   "cell_type": "code",
   "execution_count": 322,
   "metadata": {},
   "outputs": [],
   "source": [
    "args = {\n",
    "    'lr': 0.01,\n",
    "    'epochs': 1000,\n",
    "}\n",
    "criterion = torch.nn.CrossEntropyLoss()\n",
    "optimizer = torch.optim.Adam(model.parameters(), lr=args['lr'])"
   ]
  },
  {
   "cell_type": "markdown",
   "metadata": {},
   "source": [
    "## 3.2 Start Training"
   ]
  },
  {
   "cell_type": "code",
   "execution_count": 323,
   "metadata": {},
   "outputs": [],
   "source": [
    "def train(data):\n",
    "    optimizer.zero_grad()\n",
    "    out, h = model(data.x, data.edge_index)\n",
    "    loss = criterion(out[data.train_mask], data.y[data.train_mask]) # only calculate the loss of traninig set\n",
    "    loss.backward()\n",
    "    optimizer.step()\n",
    "    return loss, h"
   ]
  },
  {
   "cell_type": "code",
   "execution_count": 324,
   "metadata": {},
   "outputs": [
    {
     "data": {
      "text/plain": [
       "1"
      ]
     },
     "execution_count": 324,
     "metadata": {},
     "output_type": "execute_result"
    }
   ],
   "source": [
    "a = [True, False, False, True]\n",
    "b = [False, True, True, True]\n",
    "c = [i == j for i, j in zip(a, b)].count(True)\n",
    "c"
   ]
  },
  {
   "cell_type": "code",
   "execution_count": 325,
   "metadata": {},
   "outputs": [],
   "source": [
    "def accuracy():\n",
    "    out, h = model(data.x, data.edge_index)\n",
    "    pred = out\n",
    "    label = data.y\n",
    "\n",
    "    pred_train = pred[data.train_mask]\n",
    "    pred_train = torch.nn.functional.softmax(pred_train).argmax(axis=1).reshape(-1, 1)\n",
    "    label_train = label[data.train_mask]\n",
    "    acc_train = [i == j for i, j in zip(pred_train, label_train)].count(True) / len(pred_train)\n",
    "\n",
    "    test_mask = [not i for i in data.train_mask]\n",
    "    pred_test = pred[test_mask]\n",
    "    pred_test = torch.nn.functional.softmax(pred_test).argmax(axis=1).reshape(-1, 1)\n",
    "    label_test = label[test_mask]\n",
    "    acc_test = [i == j for i, j in zip(pred_test, label_test)].count(True) / len(pred_test)\n",
    "\n",
    "    return acc_train, acc_test"
   ]
  },
  {
   "cell_type": "code",
   "execution_count": 326,
   "metadata": {},
   "outputs": [
    {
     "name": "stderr",
     "output_type": "stream",
     "text": [
      "/var/folders/gy/zjs2ncbs7y97_x8_t1hh7wcr0000gn/T/ipykernel_26662/1681095407.py:7: UserWarning: Implicit dimension choice for softmax has been deprecated. Change the call to include dim=X as an argument.\n",
      "  pred_train = torch.nn.functional.softmax(pred_train).argmax(axis=1).reshape(-1, 1)\n",
      "/var/folders/gy/zjs2ncbs7y97_x8_t1hh7wcr0000gn/T/ipykernel_26662/1681095407.py:13: UserWarning: Implicit dimension choice for softmax has been deprecated. Change the call to include dim=X as an argument.\n",
      "  pred_test = torch.nn.functional.softmax(pred_test).argmax(axis=1).reshape(-1, 1)\n"
     ]
    },
    {
     "name": "stdout",
     "output_type": "stream",
     "text": [
      "epoch :0, loss: 1.4108679294586182, train accuracy: 0.25, test accuracy: 0.13333333333333333\n",
      "epoch :10, loss: 1.3308079242706299, train accuracy: 0.25, test accuracy: 0.36666666666666664\n",
      "epoch :20, loss: 1.2394758462905884, train accuracy: 0.5, test accuracy: 0.4\n",
      "epoch :30, loss: 1.0569102764129639, train accuracy: 0.5, test accuracy: 0.4\n",
      "epoch :40, loss: 0.8711369037628174, train accuracy: 0.5, test accuracy: 0.36666666666666664\n",
      "epoch :50, loss: 0.7562602162361145, train accuracy: 0.75, test accuracy: 0.4666666666666667\n",
      "epoch :60, loss: 0.6831309795379639, train accuracy: 1.0, test accuracy: 0.5\n",
      "epoch :70, loss: 0.6208341121673584, train accuracy: 0.75, test accuracy: 0.4666666666666667\n",
      "epoch :80, loss: 0.5631780624389648, train accuracy: 0.75, test accuracy: 0.5\n",
      "epoch :90, loss: 0.51168292760849, train accuracy: 0.75, test accuracy: 0.5333333333333333\n",
      "epoch :100, loss: 0.4527720808982849, train accuracy: 1.0, test accuracy: 0.6\n",
      "epoch :110, loss: 0.3784283995628357, train accuracy: 1.0, test accuracy: 0.6\n",
      "epoch :120, loss: 0.3044610023498535, train accuracy: 1.0, test accuracy: 0.6333333333333333\n",
      "epoch :130, loss: 0.24150852859020233, train accuracy: 1.0, test accuracy: 0.6\n",
      "epoch :140, loss: 0.19231824576854706, train accuracy: 1.0, test accuracy: 0.7333333333333333\n",
      "epoch :150, loss: 0.15629644691944122, train accuracy: 1.0, test accuracy: 0.7666666666666667\n",
      "epoch :160, loss: 0.1303626447916031, train accuracy: 1.0, test accuracy: 0.7666666666666667\n",
      "epoch :170, loss: 0.11144842952489853, train accuracy: 1.0, test accuracy: 0.7666666666666667\n",
      "epoch :180, loss: 0.09724342077970505, train accuracy: 1.0, test accuracy: 0.7666666666666667\n",
      "epoch :190, loss: 0.0862162634730339, train accuracy: 1.0, test accuracy: 0.7333333333333333\n",
      "epoch :200, loss: 0.0773964673280716, train accuracy: 1.0, test accuracy: 0.7333333333333333\n",
      "epoch :210, loss: 0.07016571611166, train accuracy: 1.0, test accuracy: 0.7333333333333333\n",
      "epoch :220, loss: 0.06411883980035782, train accuracy: 1.0, test accuracy: 0.7333333333333333\n",
      "epoch :230, loss: 0.058980509638786316, train accuracy: 1.0, test accuracy: 0.7333333333333333\n",
      "epoch :240, loss: 0.054556433111429214, train accuracy: 1.0, test accuracy: 0.7333333333333333\n",
      "epoch :250, loss: 0.050705280154943466, train accuracy: 1.0, test accuracy: 0.7333333333333333\n",
      "epoch :260, loss: 0.04732154682278633, train accuracy: 1.0, test accuracy: 0.7333333333333333\n",
      "epoch :270, loss: 0.04432441294193268, train accuracy: 1.0, test accuracy: 0.7333333333333333\n",
      "epoch :280, loss: 0.041651107370853424, train accuracy: 1.0, test accuracy: 0.7333333333333333\n",
      "epoch :290, loss: 0.03925178945064545, train accuracy: 1.0, test accuracy: 0.7333333333333333\n",
      "epoch :300, loss: 0.03708658367395401, train accuracy: 1.0, test accuracy: 0.7333333333333333\n",
      "epoch :310, loss: 0.03512284532189369, train accuracy: 1.0, test accuracy: 0.7333333333333333\n",
      "epoch :320, loss: 0.033334117382764816, train accuracy: 1.0, test accuracy: 0.7333333333333333\n",
      "epoch :330, loss: 0.031698137521743774, train accuracy: 1.0, test accuracy: 0.7333333333333333\n",
      "epoch :340, loss: 0.03019634820520878, train accuracy: 1.0, test accuracy: 0.7333333333333333\n",
      "epoch :350, loss: 0.02881326712667942, train accuracy: 1.0, test accuracy: 0.7333333333333333\n",
      "epoch :360, loss: 0.027535386383533478, train accuracy: 1.0, test accuracy: 0.7666666666666667\n",
      "epoch :370, loss: 0.026351487264037132, train accuracy: 1.0, test accuracy: 0.7666666666666667\n",
      "epoch :380, loss: 0.025251783430576324, train accuracy: 1.0, test accuracy: 0.7666666666666667\n",
      "epoch :390, loss: 0.024227779358625412, train accuracy: 1.0, test accuracy: 0.7666666666666667\n",
      "epoch :400, loss: 0.02327203005552292, train accuracy: 1.0, test accuracy: 0.7666666666666667\n",
      "epoch :410, loss: 0.022378213703632355, train accuracy: 1.0, test accuracy: 0.7666666666666667\n",
      "epoch :420, loss: 0.021540675312280655, train accuracy: 1.0, test accuracy: 0.7666666666666667\n",
      "epoch :430, loss: 0.020754331722855568, train accuracy: 1.0, test accuracy: 0.7666666666666667\n",
      "epoch :440, loss: 0.02001478150486946, train accuracy: 1.0, test accuracy: 0.7666666666666667\n",
      "epoch :450, loss: 0.019318217411637306, train accuracy: 1.0, test accuracy: 0.7666666666666667\n",
      "epoch :460, loss: 0.01866098679602146, train accuracy: 1.0, test accuracy: 0.7666666666666667\n",
      "epoch :470, loss: 0.01803998090326786, train accuracy: 1.0, test accuracy: 0.7666666666666667\n",
      "epoch :480, loss: 0.017452489584684372, train accuracy: 1.0, test accuracy: 0.7666666666666667\n",
      "epoch :490, loss: 0.016895875334739685, train accuracy: 1.0, test accuracy: 0.7666666666666667\n",
      "epoch :500, loss: 0.016367904841899872, train accuracy: 1.0, test accuracy: 0.7666666666666667\n",
      "epoch :510, loss: 0.015866488218307495, train accuracy: 1.0, test accuracy: 0.7666666666666667\n",
      "epoch :520, loss: 0.015389750711619854, train accuracy: 1.0, test accuracy: 0.7666666666666667\n",
      "epoch :530, loss: 0.014936061576008797, train accuracy: 1.0, test accuracy: 0.7666666666666667\n",
      "epoch :540, loss: 0.01450377982109785, train accuracy: 1.0, test accuracy: 0.7666666666666667\n",
      "epoch :550, loss: 0.014091518707573414, train accuracy: 1.0, test accuracy: 0.7666666666666667\n",
      "epoch :560, loss: 0.01369798555970192, train accuracy: 1.0, test accuracy: 0.7666666666666667\n",
      "epoch :570, loss: 0.013321995735168457, train accuracy: 1.0, test accuracy: 0.7666666666666667\n",
      "epoch :580, loss: 0.01296245027333498, train accuracy: 1.0, test accuracy: 0.7666666666666667\n",
      "epoch :590, loss: 0.01261833868920803, train accuracy: 1.0, test accuracy: 0.7666666666666667\n",
      "epoch :600, loss: 0.012288706377148628, train accuracy: 1.0, test accuracy: 0.7666666666666667\n",
      "epoch :610, loss: 0.011972801759839058, train accuracy: 1.0, test accuracy: 0.7666666666666667\n",
      "epoch :620, loss: 0.011669754981994629, train accuracy: 1.0, test accuracy: 0.7666666666666667\n",
      "epoch :630, loss: 0.011378842405974865, train accuracy: 1.0, test accuracy: 0.7666666666666667\n",
      "epoch :640, loss: 0.011099393479526043, train accuracy: 1.0, test accuracy: 0.7666666666666667\n",
      "epoch :650, loss: 0.01083083264529705, train accuracy: 1.0, test accuracy: 0.7666666666666667\n",
      "epoch :660, loss: 0.010572370141744614, train accuracy: 1.0, test accuracy: 0.7666666666666667\n",
      "epoch :670, loss: 0.010323749855160713, train accuracy: 1.0, test accuracy: 0.7666666666666667\n",
      "epoch :680, loss: 0.010084330104291439, train accuracy: 1.0, test accuracy: 0.7666666666666667\n",
      "epoch :690, loss: 0.009853585623204708, train accuracy: 1.0, test accuracy: 0.7666666666666667\n",
      "epoch :700, loss: 0.009631110355257988, train accuracy: 1.0, test accuracy: 0.7666666666666667\n",
      "epoch :710, loss: 0.00941652525216341, train accuracy: 1.0, test accuracy: 0.7666666666666667\n",
      "epoch :720, loss: 0.009209511801600456, train accuracy: 1.0, test accuracy: 0.7666666666666667\n",
      "epoch :730, loss: 0.009009512141346931, train accuracy: 1.0, test accuracy: 0.7666666666666667\n",
      "epoch :740, loss: 0.008816354908049107, train accuracy: 1.0, test accuracy: 0.7666666666666667\n",
      "epoch :750, loss: 0.008629629388451576, train accuracy: 1.0, test accuracy: 0.7666666666666667\n",
      "epoch :760, loss: 0.008449103683233261, train accuracy: 1.0, test accuracy: 0.7666666666666667\n",
      "epoch :770, loss: 0.008274425752460957, train accuracy: 1.0, test accuracy: 0.7666666666666667\n",
      "epoch :780, loss: 0.008105392567813396, train accuracy: 1.0, test accuracy: 0.7666666666666667\n",
      "epoch :790, loss: 0.007941710762679577, train accuracy: 1.0, test accuracy: 0.7666666666666667\n",
      "epoch :800, loss: 0.007783176377415657, train accuracy: 1.0, test accuracy: 0.7666666666666667\n",
      "epoch :810, loss: 0.0076295253820717335, train accuracy: 1.0, test accuracy: 0.7666666666666667\n",
      "epoch :820, loss: 0.007480583153665066, train accuracy: 1.0, test accuracy: 0.7666666666666667\n",
      "epoch :830, loss: 0.007336145266890526, train accuracy: 1.0, test accuracy: 0.7666666666666667\n",
      "epoch :840, loss: 0.007195975631475449, train accuracy: 1.0, test accuracy: 0.7666666666666667\n",
      "epoch :850, loss: 0.007059987634420395, train accuracy: 1.0, test accuracy: 0.7666666666666667\n",
      "epoch :860, loss: 0.0069278874434530735, train accuracy: 1.0, test accuracy: 0.7666666666666667\n",
      "epoch :870, loss: 0.006799706723541021, train accuracy: 1.0, test accuracy: 0.7666666666666667\n",
      "epoch :880, loss: 0.006675150245428085, train accuracy: 1.0, test accuracy: 0.7666666666666667\n",
      "epoch :890, loss: 0.006554100196808577, train accuracy: 1.0, test accuracy: 0.7666666666666667\n",
      "epoch :900, loss: 0.006436411757022142, train accuracy: 1.0, test accuracy: 0.7666666666666667\n",
      "epoch :910, loss: 0.006321936845779419, train accuracy: 1.0, test accuracy: 0.7666666666666667\n",
      "epoch :920, loss: 0.006210587453097105, train accuracy: 1.0, test accuracy: 0.7666666666666667\n",
      "epoch :930, loss: 0.0061023058369755745, train accuracy: 1.0, test accuracy: 0.7666666666666667\n",
      "epoch :940, loss: 0.005996856838464737, train accuracy: 1.0, test accuracy: 0.7666666666666667\n",
      "epoch :950, loss: 0.005894239991903305, train accuracy: 1.0, test accuracy: 0.7666666666666667\n",
      "epoch :960, loss: 0.005794249940663576, train accuracy: 1.0, test accuracy: 0.7666666666666667\n",
      "epoch :970, loss: 0.0056968568824231625, train accuracy: 1.0, test accuracy: 0.7666666666666667\n",
      "epoch :980, loss: 0.005602003075182438, train accuracy: 1.0, test accuracy: 0.7666666666666667\n",
      "epoch :990, loss: 0.005509540438652039, train accuracy: 1.0, test accuracy: 0.7666666666666667\n"
     ]
    }
   ],
   "source": [
    "for epoch in range(args['epochs']):\n",
    "    loss, h = train(data)\n",
    "    # print(h.shape)\n",
    "    # print(data.y.shape)\n",
    "    acc_train, acc_test = accuracy()\n",
    "    if epoch % 10 == 0:\n",
    "        print(f\"epoch :{epoch}, loss: {loss}, train accuracy: {acc_train}, test accuracy: {acc_test}\")\n",
    "        # visualize(h, color=data.y, epoch=epoch, loss=loss)"
   ]
  },
  {
   "cell_type": "code",
   "execution_count": null,
   "metadata": {},
   "outputs": [],
   "source": []
  }
 ],
 "metadata": {
  "kernelspec": {
   "display_name": "Python 3.8.0 ('python380')",
   "language": "python",
   "name": "python3"
  },
  "language_info": {
   "codemirror_mode": {
    "name": "ipython",
    "version": 3
   },
   "file_extension": ".py",
   "mimetype": "text/x-python",
   "name": "python",
   "nbconvert_exporter": "python",
   "pygments_lexer": "ipython3",
   "version": "3.8.0"
  },
  "orig_nbformat": 4,
  "vscode": {
   "interpreter": {
    "hash": "3f1aac94a61804a8d75ffb987cbc74f8d702c3ab4a0bcc227659f2682f8e6d7f"
   }
  }
 },
 "nbformat": 4,
 "nbformat_minor": 2
}
